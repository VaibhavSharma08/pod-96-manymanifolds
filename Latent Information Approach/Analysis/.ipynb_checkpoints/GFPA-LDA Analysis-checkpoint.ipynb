{
 "cells": [
  {
   "cell_type": "markdown",
   "metadata": {},
   "source": [
    "# Pluralistic Approach to Decoding Motor Activity from Different Brain Regions\n",
    "##### Project Contributors: Narotam Singh, Vaibhav, Rishika Mohanta, Prakriti Nayak\n",
    "\n",
    "##### Done as part of [Neuromatch Academy](https://github.com/NeuromatchAcademy/course-content) July 13-31 2020"
   ]
  },
  {
   "cell_type": "markdown",
   "metadata": {},
   "source": [
    "## Latent Information Approach Analysis\n",
    "\n",
    "The original data is from Steinmetz, Nicholas A., et al. \"Distributed coding of choice, action and engagement across the mouse brain.\" Nature 576.7786 (2019): 266-273. It was then further cleaned to consider only recordings from motor related areas with more than 50 neurons from atleast 2 mice. We only considered the the open loop condition ie. data between stimulus onset and go cue to avoid representations of moving stimulus from appearing in the neural data we are analysing. \n",
    "\n",
    "Here we analyse the data generated from the GPFA-LDA Pipeline\n",
    "\n",
    "### Import packages"
   ]
  },
  {
   "cell_type": "code",
   "execution_count": 8,
   "metadata": {},
   "outputs": [],
   "source": [
    "import numpy as np\n",
    "import matplotlib.pyplot as plt\n",
    "import seaborn as sns\n",
    "import pandas as pd\n",
    "import os"
   ]
  },
  {
   "cell_type": "markdown",
   "metadata": {},
   "source": [
    "### Import Dataset"
   ]
  },
  {
   "cell_type": "code",
   "execution_count": 2,
   "metadata": {},
   "outputs": [],
   "source": [
    "alldat = np.load('../cleaned_dataset/train.npz',allow_pickle=True)['arr_0']"
   ]
  },
  {
   "cell_type": "markdown",
   "metadata": {},
   "source": [
    "## Analysis of Dataset\n",
    "\n",
    "First, lets quantify the number of mice, brain areas, sessions, trials, and neurons we have."
   ]
  },
  {
   "cell_type": "code",
   "execution_count": 3,
   "metadata": {},
   "outputs": [
    {
     "name": "stdout",
     "output_type": "stream",
     "text": [
      "MD   :  3 Sessions, 3 Mice,  397 Neurons,  641 Trials\n",
      "VPM  :  3 Sessions, 2 Mice,  322 Neurons,  623 Trials\n",
      "MOs  : 12 Sessions, 9 Mice, 1548 Neurons, 2535 Trials\n",
      "SNr  :  2 Sessions, 2 Mice,  246 Neurons,  446 Trials\n",
      "MOp  :  3 Sessions, 3 Mice,  793 Neurons,  480 Trials\n",
      "VPL  :  3 Sessions, 2 Mice,  251 Neurons,  706 Trials\n",
      "SCig :  4 Sessions, 2 Mice,  807 Neurons,  621 Trials\n",
      "CP   :  5 Sessions, 5 Mice, 1215 Neurons,  993 Trials\n",
      "SCm  :  3 Sessions, 2 Mice,  199 Neurons,  564 Trials\n",
      "SSp  :  2 Sessions, 2 Mice,  441 Neurons,  203 Trials\n"
     ]
    }
   ],
   "source": [
    "## Initialize dictionary\n",
    "areas = {}\n",
    "for i in set(np.concatenate([np.unique(i['brain_area']) for i in alldat])):\n",
    "    areas[i] = {'session_count':0,'mice':[],'neuron_count':0,'trial_count':0}\n",
    "\n",
    "## Fill dictionary with data\n",
    "for i in alldat:\n",
    "    for j in np.unique(i['brain_area']):\n",
    "        areas[j]['neuron_count'] += sum(i['brain_area']==j)        \n",
    "        areas[j]['session_count'] +=1\n",
    "        areas[j]['trial_count'] +=i['spks'].shape[1]\n",
    "        if i['mouse_name'] not in areas[j]['mice']: \n",
    "            areas[j]['mice'].append(i['mouse_name'])\n",
    "\n",
    "# Print output\n",
    "for i in areas:\n",
    "    print(f\"{i:4s} : {areas[i]['session_count']:2d} Sessions, {len(areas[i]['mice'])} Mice, {areas[i]['neuron_count']:4d} Neurons, {areas[i]['trial_count']:4d} Trials\")"
   ]
  },
  {
   "cell_type": "markdown",
   "metadata": {},
   "source": [
    "## Analysis of GPFA-LDA pipeline results\n",
    "\n",
    "To save runtime, we had run two instances of the pipeline parallely on two kernels and the results summaries are available in ``results/GFPA-LDA-parallel-run-a.pkl`` and ``results/GFPA-LDA-parallel-run-b.pkl`` respectively."
   ]
  },
  {
   "cell_type": "code",
   "execution_count": 4,
   "metadata": {},
   "outputs": [
    {
     "data": {
      "text/html": [
       "<div>\n",
       "<style scoped>\n",
       "    .dataframe tbody tr th:only-of-type {\n",
       "        vertical-align: middle;\n",
       "    }\n",
       "\n",
       "    .dataframe tbody tr th {\n",
       "        vertical-align: top;\n",
       "    }\n",
       "\n",
       "    .dataframe thead th {\n",
       "        text-align: right;\n",
       "    }\n",
       "</style>\n",
       "<table border=\"1\" class=\"dataframe\">\n",
       "  <thead>\n",
       "    <tr style=\"text-align: right;\">\n",
       "      <th></th>\n",
       "      <th>session_no</th>\n",
       "      <th>brain_area</th>\n",
       "      <th>replicate_id</th>\n",
       "      <th>neuron_idx</th>\n",
       "      <th>trial_idx</th>\n",
       "      <th>mean_test_accuracy</th>\n",
       "      <th>mean_test_f1</th>\n",
       "      <th>mean_train_accuracy</th>\n",
       "      <th>mean_train_f1</th>\n",
       "    </tr>\n",
       "  </thead>\n",
       "  <tbody>\n",
       "    <tr>\n",
       "      <th>0</th>\n",
       "      <td>10</td>\n",
       "      <td>CP</td>\n",
       "      <td>0</td>\n",
       "      <td>[75, 94, 142, 150, 4, 54, 31, 79, 122, 8, 93, ...</td>\n",
       "      <td>[39, 51, 18, 242, 13, 183, 38, 75, 237, 61, 20...</td>\n",
       "      <td>0.463137</td>\n",
       "      <td>0.488916</td>\n",
       "      <td>0.507221</td>\n",
       "      <td>0.535960</td>\n",
       "    </tr>\n",
       "    <tr>\n",
       "      <th>1</th>\n",
       "      <td>10</td>\n",
       "      <td>CP</td>\n",
       "      <td>1</td>\n",
       "      <td>[95, 69, 10, 93, 102, 124, 142, 26, 127, 75, 1...</td>\n",
       "      <td>[192, 207, 122, 235, 58, 51, 119, 138, 67, 40,...</td>\n",
       "      <td>0.486232</td>\n",
       "      <td>0.523015</td>\n",
       "      <td>0.556513</td>\n",
       "      <td>0.599889</td>\n",
       "    </tr>\n",
       "    <tr>\n",
       "      <th>2</th>\n",
       "      <td>10</td>\n",
       "      <td>CP</td>\n",
       "      <td>2</td>\n",
       "      <td>[16, 65, 38, 123, 122, 105, 121, 145, 152, 68,...</td>\n",
       "      <td>[212, 120, 160, 28, 209, 49, 127, 193, 99, 235...</td>\n",
       "      <td>0.520726</td>\n",
       "      <td>0.535410</td>\n",
       "      <td>0.604911</td>\n",
       "      <td>0.615242</td>\n",
       "    </tr>\n",
       "    <tr>\n",
       "      <th>3</th>\n",
       "      <td>10</td>\n",
       "      <td>CP</td>\n",
       "      <td>3</td>\n",
       "      <td>[97, 5, 8, 113, 64, 124, 46, 31, 12, 141, 74, ...</td>\n",
       "      <td>[229, 212, 113, 48, 75, 71, 34, 100, 153, 110,...</td>\n",
       "      <td>0.480412</td>\n",
       "      <td>0.503517</td>\n",
       "      <td>0.553570</td>\n",
       "      <td>0.579343</td>\n",
       "    </tr>\n",
       "    <tr>\n",
       "      <th>4</th>\n",
       "      <td>10</td>\n",
       "      <td>CP</td>\n",
       "      <td>4</td>\n",
       "      <td>[34, 74, 79, 116, 62, 86, 118, 5, 27, 77, 101,...</td>\n",
       "      <td>[203, 216, 234, 24, 218, 159, 144, 178, 20, 19...</td>\n",
       "      <td>0.442666</td>\n",
       "      <td>0.464848</td>\n",
       "      <td>0.529767</td>\n",
       "      <td>0.552109</td>\n",
       "    </tr>\n",
       "  </tbody>\n",
       "</table>\n",
       "</div>"
      ],
      "text/plain": [
       "   session_no brain_area  replicate_id  \\\n",
       "0          10         CP             0   \n",
       "1          10         CP             1   \n",
       "2          10         CP             2   \n",
       "3          10         CP             3   \n",
       "4          10         CP             4   \n",
       "\n",
       "                                          neuron_idx  \\\n",
       "0  [75, 94, 142, 150, 4, 54, 31, 79, 122, 8, 93, ...   \n",
       "1  [95, 69, 10, 93, 102, 124, 142, 26, 127, 75, 1...   \n",
       "2  [16, 65, 38, 123, 122, 105, 121, 145, 152, 68,...   \n",
       "3  [97, 5, 8, 113, 64, 124, 46, 31, 12, 141, 74, ...   \n",
       "4  [34, 74, 79, 116, 62, 86, 118, 5, 27, 77, 101,...   \n",
       "\n",
       "                                           trial_idx  mean_test_accuracy  \\\n",
       "0  [39, 51, 18, 242, 13, 183, 38, 75, 237, 61, 20...            0.463137   \n",
       "1  [192, 207, 122, 235, 58, 51, 119, 138, 67, 40,...            0.486232   \n",
       "2  [212, 120, 160, 28, 209, 49, 127, 193, 99, 235...            0.520726   \n",
       "3  [229, 212, 113, 48, 75, 71, 34, 100, 153, 110,...            0.480412   \n",
       "4  [203, 216, 234, 24, 218, 159, 144, 178, 20, 19...            0.442666   \n",
       "\n",
       "   mean_test_f1  mean_train_accuracy  mean_train_f1  \n",
       "0      0.488916             0.507221       0.535960  \n",
       "1      0.523015             0.556513       0.599889  \n",
       "2      0.535410             0.604911       0.615242  \n",
       "3      0.503517             0.553570       0.579343  \n",
       "4      0.464848             0.529767       0.552109  "
      ]
     },
     "execution_count": 4,
     "metadata": {},
     "output_type": "execute_result"
    }
   ],
   "source": [
    "df0 = pd.read_pickle('../results/GFPA-LDA-parallel-run-a.pkl')\n",
    "df1 = pd.read_pickle('../results/GFPA-LDA-parallel-run-b.pkl')\n",
    "df = pd.concat((df0,df1))\n",
    "df.head()"
   ]
  },
  {
   "cell_type": "markdown",
   "metadata": {},
   "source": [
    "### Analysis of Balanced Accuracy and Weighted f1 scores"
   ]
  },
  {
   "cell_type": "code",
   "execution_count": 5,
   "metadata": {},
   "outputs": [
    {
     "data": {
      "image/png": "[encoded data removed]",
      "text/plain": [
       "<Figure size 432x288 with 1 Axes>"
      ]
     },
     "metadata": {},
     "output_type": "display_data"
    }
   ],
   "source": [
    "sns.set(font_scale=1.2)\n",
    "sns.boxplot(x='brain_area',y='mean_test_accuracy',data=df,whis=[0, 100], palette=\"vlag\")\n",
    "sns.swarmplot(x='brain_area',y='mean_test_accuracy',data=df, size=3, color=\"k\", linewidth=0)\n",
    "plt.box(False)\n",
    "plt.ylabel('Test Balanced Accuracy (Mean,K=5)')\n",
    "plt.xlabel('Brain Area')\n",
    "plt.show()"
   ]
  },
  {
   "cell_type": "code",
   "execution_count": 6,
   "metadata": {},
   "outputs": [
    {
     "data": {
      "image/png": "[encoded data removed]",
      "text/plain": [
       "<Figure size 432x288 with 1 Axes>"
      ]
     },
     "metadata": {},
     "output_type": "display_data"
    }
   ],
   "source": [
    "sns.set(font_scale=1.2)\n",
    "sns.boxplot(x='brain_area',y='mean_test_f1',data=df,whis=[0, 100], palette=\"vlag\")\n",
    "sns.swarmplot(x='brain_area',y='mean_test_f1',data=df, size=3, color=\"k\", linewidth=0)\n",
    "plt.box(False)\n",
    "plt.ylabel('Test Weighted f1 (Mean,K=5)')\n",
    "plt.xlabel('Brain Area')\n",
    "plt.show()"
   ]
  },
  {
   "cell_type": "markdown",
   "metadata": {},
   "source": [
    "### Analysis of the best and worst samplings for all Brain Areas"
   ]
  },
  {
   "cell_type": "code",
   "execution_count": 9,
   "metadata": {},
   "outputs": [
    {
     "name": "stderr",
     "output_type": "stream",
     "text": [
      "D:\\Anaconda3\\envs\\tensorflow\\lib\\site-packages\\elephant\\pandas_bridge.py:22: DeprecationWarning: pandas_bridge module will be removed in Elephant v0.8.x\n",
      "  DeprecationWarning)\n"
     ]
    }
   ],
   "source": [
    "files = os.listdir('../results/GPFA-LDA-data/')\n",
    "worst_best_sample = {}\n",
    "for i in [temp.split('_')[0] for temp in files]:\n",
    "    worst_best_sample[i] = {'best_file':\"\",'best_score':-np.inf,'worst_file':\"\",'worst_score':np.inf}\n",
    "\n",
    "for i in files:\n",
    "    a = np.load('../results/GPFA-LDA-data/'+i,allow_pickle=True)\n",
    "    a = a.item()\n",
    "    score = np.mean(a['cv_lda_scores']['test_balanced_accuracy'])\n",
    "    if score>worst_best_sample[i.split('_')[0]]['best_score']:\n",
    "        worst_best_sample[i.split('_')[0]]['best_score'] = score\n",
    "        worst_best_sample[i.split('_')[0]]['best_file'] = i\n",
    "    if score<worst_best_sample[i.split('_')[0]]['worst_score']:\n",
    "        worst_best_sample[i.split('_')[0]]['worst_score'] = score\n",
    "        worst_best_sample[i.split('_')[0]]['worst_file'] = i"
   ]
  },
  {
   "cell_type": "code",
   "execution_count": 10,
   "metadata": {},
   "outputs": [
    {
     "data": {
      "text/plain": [
       "{'CP': {'best_file': 'CP_18_1.npy',\n",
       "  'best_score': 0.8123477543594927,\n",
       "  'worst_file': 'CP_2_2.npy',\n",
       "  'worst_score': 0.38023966341318277},\n",
       " 'MD': {'best_file': 'MD_19_9.npy',\n",
       "  'best_score': 0.6793852635950103,\n",
       "  'worst_file': 'MD_23_1.npy',\n",
       "  'worst_score': 0.503884335366479},\n",
       " 'MOp': {'best_file': 'MOp_18_8.npy',\n",
       "  'best_score': 0.8863969922417226,\n",
       "  'worst_file': 'MOp_11_5.npy',\n",
       "  'worst_score': 0.639652351056814},\n",
       " 'MOs': {'best_file': 'MOs_14_4.npy',\n",
       "  'best_score': 0.8681217380258849,\n",
       "  'worst_file': 'MOs_1_1.npy',\n",
       "  'worst_score': 0.3442271613528523},\n",
       " 'SCig': {'best_file': 'SCig_15_7.npy',\n",
       "  'best_score': 0.8590252285692568,\n",
       "  'worst_file': 'SCig_13_4.npy',\n",
       "  'worst_score': 0.4720378894489169},\n",
       " 'SCm': {'best_file': 'SCm_21_7.npy',\n",
       "  'best_score': 0.7123211099408118,\n",
       "  'worst_file': 'SCm_25_1.npy',\n",
       "  'worst_score': 0.6021105118655339},\n",
       " 'SNr': {'best_file': 'SNr_20_5.npy',\n",
       "  'best_score': 0.8150226952999888,\n",
       "  'worst_file': 'SNr_10_0.npy',\n",
       "  'worst_score': 0.6717961358854427},\n",
       " 'SSp': {'best_file': 'SSp_18_7.npy',\n",
       "  'best_score': 0.8767499068648824,\n",
       "  'worst_file': 'SSp_11_2.npy',\n",
       "  'worst_score': 0.6283028928631055},\n",
       " 'VPL': {'best_file': 'VPL_1_0.npy',\n",
       "  'best_score': 0.7375101024606046,\n",
       "  'worst_file': 'VPL_2_2.npy',\n",
       "  'worst_score': 0.5241535152977197},\n",
       " 'VPM': {'best_file': 'VPM_19_9.npy',\n",
       "  'best_score': 0.7726501466141265,\n",
       "  'worst_file': 'VPM_19_1.npy',\n",
       "  'worst_score': 0.6149736067117483}}"
      ]
     },
     "execution_count": 10,
     "metadata": {},
     "output_type": "execute_result"
    }
   ],
   "source": [
    "worst_best_sample"
   ]
  },
  {
   "cell_type": "markdown",
   "metadata": {},
   "source": [
    "## 3D GPFA plots (Best and Worst Seperation)\n",
    "\n",
    "Since the GPFA output is orthonormalized, they are ordered in descending order of feature importance, so we can look at the dynamics in the first 3 GPFA plot for the best and worst seperations"
   ]
  },
  {
   "cell_type": "code",
   "execution_count": null,
   "metadata": {},
   "outputs": [],
   "source": [
    "plt.figure(figsize=(12,6))\n",
    "\n",
    "for n,i in enumerate(worst_best_sample.keys()):\n",
    "    a = np.load('../results/GPFA-LDA-data/'+worst_best_sample[i]['best_file'],allow_pickle=True)\n",
    "    a = a.item()\n",
    "    ax = plt.subplot(2,5,n+1,projection='3d')\n",
    "    ax.scatter3D(a['X_data'][:,0],a['X_data'][:,1],a['X_data'][:,2],c=a['y_reg'],alpha=0.6,s=0.5,cmap=plt.cm.RdYlGn,vmin=-20,vmax=20)\n",
    "    ax.view_init(elev=20., azim=200)\n",
    "    ax.autoscale(tight=True) \n",
    "    ax.set_axis_off()\n",
    "    ax.patch.set_alpha(0.0)\n",
    "    plt.title(i)\n",
    "plt.tight_layout()\n",
    "plt.show()"
   ]
  },
  {
   "cell_type": "code",
   "execution_count": null,
   "metadata": {},
   "outputs": [],
   "source": [
    "plt.figure(figsize=(12,6))\n",
    "\n",
    "for n,i in enumerate(worst_best_sample.keys()):\n",
    "    a = np.load('../results/GPFA-LDA-data/'+worst_best_sample[i]['worst_file'],allow_pickle=True)\n",
    "    a = a.item()\n",
    "    ax = plt.subplot(2,5,n+1,projection='3d')\n",
    "    ax.scatter3D(a['X_data'][:,0],a['X_data'][:,1],a['X_data'][:,2],c=a['y_reg'],alpha=0.6,s=0.5,cmap=plt.cm.RdYlGn,vmin=-10,vmax=10)\n",
    "    ax.view_init(elev=10., azim=200)\n",
    "    ax.autoscale(tight=True) \n",
    "    ax.set_axis_off()\n",
    "    ax.patch.set_alpha(0.0)\n",
    "    plt.title(i)\n",
    "plt.tight_layout()"
   ]
  },
  {
   "cell_type": "code",
   "execution_count": null,
   "metadata": {},
   "outputs": [],
   "source": [
    "plt.figure(figsize=(12,6))\n",
    "\n",
    "for n,i in enumerate(worst_best_sample.keys()):\n",
    "    a = np.load('../results/GPFA-LDA-data/'+worst_best_sample[i]['best_file'],allow_pickle=True)\n",
    "    a = a.item()\n",
    "    ax = plt.subplot(2,5,n+1)\n",
    "    ax.scatter(a['lda_traj'][:,0],a['lda_traj'][:,1],c=a['y_clas'],s=0.5,cmap=plt.cm.RdYlGn)\n",
    "    plt.title(i)\n",
    "    plt.box(False)\n",
    "    plt.xlabel('LD 1')\n",
    "    plt.ylabel('LD 2')\n",
    "    ax.set_xticklabels([])\n",
    "    ax.set_yticklabels([])\n",
    "    \n",
    "plt.tight_layout()"
   ]
  },
  {
   "cell_type": "code",
   "execution_count": null,
   "metadata": {},
   "outputs": [],
   "source": [
    "%matplotlib inline\n",
    "plt.figure(figsize=(12,6))\n",
    "\n",
    "for n,i in enumerate(worst_best_sample.keys()):\n",
    "    a = np.load('../results/GPFA-LDA-data/'+worst_best_sample[i]['worst_file'],allow_pickle=True)\n",
    "    a = a.item()\n",
    "    ax = plt.subplot(2,5,n+1)\n",
    "    ax.scatter(a['lda_traj'][:,0],a['lda_traj'][:,1],c=a['y_clas'],s=0.5,cmap=plt.cm.RdYlGn)\n",
    "    plt.title(i)\n",
    "    plt.box(False)\n",
    "    plt.xlabel('LD 1')\n",
    "    plt.ylabel('LD 2')\n",
    "    ax.set_xticklabels([])\n",
    "    ax.set_yticklabels([])\n",
    "    \n",
    "plt.tight_layout()"
   ]
  }
 ],
 "metadata": {
  "kernelspec": {
   "display_name": "Python (tensorflow)",
   "language": "python",
   "name": "tensorflow"
  },
  "language_info": {
   "codemirror_mode": {
    "name": "ipython",
    "version": 3
   },
   "file_extension": ".py",
   "mimetype": "text/x-python",
   "name": "python",
   "nbconvert_exporter": "python",
   "pygments_lexer": "ipython3",
   "version": "3.6.8"
  }
 },
 "nbformat": 4,
 "nbformat_minor": 4
}
